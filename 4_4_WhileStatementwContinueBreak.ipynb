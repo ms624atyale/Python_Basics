{
  "nbformat": 4,
  "nbformat_minor": 0,
  "metadata": {
    "colab": {
      "provenance": [],
      "authorship_tag": "ABX9TyOzHuTV/vtJrhzuMMe3OhbX",
      "include_colab_link": true
    },
    "kernelspec": {
      "name": "python3",
      "display_name": "Python 3"
    },
    "language_info": {
      "name": "python"
    }
  },
  "cells": [
    {
      "cell_type": "markdown",
      "metadata": {
        "id": "view-in-github",
        "colab_type": "text"
      },
      "source": [
        "<a href=\"https://colab.research.google.com/github/ms624atyale/Python_Basics/blob/main/4_4_WhileStatementwContinueBreak.ipynb\" target=\"_parent\"><img src=\"https://colab.research.google.com/assets/colab-badge.svg\" alt=\"Open In Colab\"/></a>"
      ]
    },
    {
      "cell_type": "markdown",
      "source": [
        "# 🅰️ **While statement 🔄 Loop**\n",
        "\n",
        "- It executes repeatedly a block of code <font color = 'red'> as long as a certain condition is true.\n",
        "  - It creates loops where you want to perform a task repeatedly <font color = 'red'> until a specified condition becomes false."
      ],
      "metadata": {
        "id": "DR869DSG8AZi"
      }
    },
    {
      "cell_type": "markdown",
      "source": [
        "While Statement 1"
      ],
      "metadata": {
        "id": "6nqSBDMttgFS"
      }
    },
    {
      "cell_type": "code",
      "source": [
        "counter = 1  # Initialize a counter variable\n",
        "\n",
        "while counter <= 5:  # Condition: Continue while counter is less than or equal to 5\n",
        "    print(counter)  # Print the current value of the counter\n",
        "    counter += 1  # Increment the counter by 1 in each iteration\n",
        "\n",
        "print(\"Loop finished!\")"
      ],
      "metadata": {
        "id": "HBQ4o4AitM6k",
        "outputId": "4d95ebde-bde6-4ad0-88b6-f97369dcb719",
        "colab": {
          "base_uri": "https://localhost:8080/"
        }
      },
      "execution_count": 1,
      "outputs": [
        {
          "output_type": "stream",
          "name": "stdout",
          "text": [
            "1\n",
            "2\n",
            "3\n",
            "4\n",
            "5\n",
            "Loop finished!\n"
          ]
        }
      ]
    },
    {
      "cell_type": "code",
      "execution_count": 10,
      "metadata": {
        "colab": {
          "base_uri": "https://localhost:8080/"
        },
        "id": "NwKZsgBw3dI_",
        "outputId": "88a5de2c-7386-4c91-ab6a-4fe82a21da98"
      },
      "outputs": [
        {
          "output_type": "stream",
          "name": "stdout",
          "text": [
            "3\n",
            "4\n",
            "5\n",
            "6\n",
            "7\n",
            "8\n"
          ]
        }
      ],
      "source": [
        "x = 0  # Initialize the variable 'x' with the value 0\n",
        "\n",
        "while x < 10:  # Condition: Continue while x is less than 10 (or Start a while loop with the condition \"x < 10\")\n",
        "  x = x + 1  # Increment the value of 'x' by 1 in each iteration\n",
        "\n",
        "  if x < 3:  # Check if 'x' is less than 3\n",
        "    continue  # If 'x' is less than 3, skip the rest of the loop's body and go to the next iteration\n",
        "\n",
        "  print(x)  # Print the value of 'x' if it is greater than or equal to 3\n",
        "\n",
        "  if x > 7:  # Check if 'x' is greater than 7\n",
        "    break  # If 'x' is greater than 7, exit the loop immediately\n",
        "\n",
        "# The code continues here after the while loop is finished"
      ]
    },
    {
      "cell_type": "code",
      "source": [
        "x = 1  # Initialize the variable 'x' with the value 1.\n",
        "total = 0  # Initialize the variable 'total' with the value 0.\n",
        "\n",
        "while 1:  # Start an infinite while loop with the condition '1'(, which is always true).\n",
        "    total = total + x  # Add the value of 'x' to the 'total'.\n",
        "\n",
        "    if total > 100000:  # Check if 'total' has exceeded 100,000.\n",
        "        print(x)  # Print the current value of 'x'.\n",
        "        print(total)  # Print the current value of 'total'.\n",
        "        break  # Exit the loop immediately."
      ],
      "metadata": {
        "colab": {
          "base_uri": "https://localhost:8080/"
        },
        "id": "ZKUzxhDm8LX0",
        "outputId": "d956e82b-d4d7-4551-a60c-eadf12356d3d"
      },
      "execution_count": 11,
      "outputs": [
        {
          "output_type": "stream",
          "name": "stdout",
          "text": [
            "1\n",
            "100001\n"
          ]
        }
      ]
    }
  ]
}