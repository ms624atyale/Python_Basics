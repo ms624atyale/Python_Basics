{
  "nbformat": 4,
  "nbformat_minor": 0,
  "metadata": {
    "colab": {
      "provenance": [],
      "authorship_tag": "ABX9TyPsizXtZO+W0SUO/lfF9Tm8",
      "include_colab_link": true
    },
    "kernelspec": {
      "name": "python3",
      "display_name": "Python 3"
    },
    "language_info": {
      "name": "python"
    }
  },
  "cells": [
    {
      "cell_type": "markdown",
      "metadata": {
        "id": "view-in-github",
        "colab_type": "text"
      },
      "source": [
        "<a href=\"https://colab.research.google.com/github/ms624atyale/Python_Basics/blob/main/12_Class_Method.ipynb\" target=\"_parent\"><img src=\"https://colab.research.google.com/assets/colab-badge.svg\" alt=\"Open In Colab\"/></a>"
      ]
    },
    {
      "cell_type": "markdown",
      "source": [
        "## Class, Class members, Instant members, Class method, Class initiate, Class delete, Class heritage\n",
        "\n",
        "---\n",
        "1. Class (Unit 049)\n",
        "  * 하나의 독립된 공간을 클래스라고 하는데, 이를 위해서는 이름을 지정하여 공간 (i.e., **class NameClass:**) 이름공간을 만든다.\n",
        "  * NameClass를 **함수처럼 호출**하여 (i.e., <font color = 'brown'> NameClass() 라고 ()를 붙여 codeline 쓰기</font>) 이를 **Instant Object**(인스턴트 객체) (Instant or Object)로 만든다. 이후 해당 Instant Object는 Variable로 역할 한다.\n",
        "    * 호출 (Call) 방법\n",
        "      * InstantObject.ClassMember\n",
        "      * InstantObject.ClassMethod\n",
        "  * >> class NameClass: >> def ClassMethod(**self**) 클래스메소드의 첫 번째 인자는 무조건 self (refer to Instant Object)\n",
        "  * ClassMethod에 따로 정의해야 하는 인자가 있으면, 해당 인자는 두 번째 인자가 된다. 문자열일 경우 () 안에서 ''를 사용한다.\n",
        "  * Class member.Class method() ↔️ variable.function()\n",
        "  * Advantage: 체계적인 코드라인 작성이 가능하기에 코드가 간결해진다.\n",
        "\n",
        "2. Instant member\n",
        "  * ClassMethod(self.variable)\n",
        "  * 클래스메소드에서 두 번째 인자로 사용되는 것이 인스터트 멤버\n",
        "  * 클래스메소드 \"안\"에서 선언된다고\" 표현한다.\n",
        "\n",
        "2. Class member\n",
        "  * class NAMECLASS: 내에서 변수 이름으로 선언\n",
        "  * ClassMember.ClassMethod() 클래스멤버는 클래스메소드 \"바깥\"에서 선언된다고 표현한다.\n",
        "  \n",
        "\n",
        "\n"
      ],
      "metadata": {
        "id": "3V3eF3-rqKDl"
      }
    },
    {
      "cell_type": "markdown",
      "source": [
        "객체(object) or 인스턴트(instant)\n",
        "\n",
        "<font color = 'red'> **클래스로 만든 객체를 ‘인스턴스’라고도 한다. 그렇다면 객체와 인스턴스의 차이는 무엇일까?**  \n",
        "\n",
        "a = Cookie()로 만든 a는 객체이다. 그리고 a 객체는 Cookie의 인스턴스이다.\n",
        "- 인스턴스라는 말은 특정 객체(a)가 어떤 클래스(Cookie)의 객체인지를 관계 위주로 설명할 때 사용한다.\n",
        "- ‘a는 인스턴스’보다 ‘a는 객체’라는 표현이 어울리며 ‘a는 Cookie의 객체’보다 ‘a는 Cookie의 인스턴스’라는 표현이 훨씬 잘 어울린다."
      ],
      "metadata": {
        "id": "URLcwWYnPZga"
      }
    },
    {
      "cell_type": "code",
      "execution_count": null,
      "metadata": {
        "id": "XKm8hYRNqJE2",
        "outputId": "c84201cd-ff91-4d47-9e16-d1d5792bee14",
        "colab": {
          "base_uri": "https://localhost:8080/"
        }
      },
      "outputs": [
        {
          "output_type": "stream",
          "name": "stdout",
          "text": [
            "How are you?\n",
            "Emma! see you!\n"
          ]
        }
      ],
      "source": [
        "class Greetings: #독립된 공간을 Class 라고 함\n",
        "  def sayHello(self): #Class Method\n",
        "    print('How are you?')\n",
        "\n",
        "  def sayBye(self,name): #Class Method에서 두 번째 인자로 사용되는 name은 Instant Member\n",
        "    print('%s! see you!' %name)\n",
        "\n",
        "obj = Greetings()\n",
        "obj.sayHello()\n",
        "obj.sayBye('Emma')"
      ]
    },
    {
      "cell_type": "code",
      "source": [
        "#Caculator.py\n",
        "\n",
        "result = 0\n",
        "def add(num):\n",
        "  global result\n",
        "  result += num # 결괏값(result)에 입력값(num) 더하기\n",
        "  return result\n",
        "\n",
        "print(add(3))\n",
        "print(add(4))\n",
        "print(add(3))"
      ],
      "metadata": {
        "id": "WihO1BZeKbZG",
        "outputId": "e8dc1ff8-f237-4026-b857-2369a98ae5fc",
        "colab": {
          "base_uri": "https://localhost:8080/"
        }
      },
      "execution_count": null,
      "outputs": [
        {
          "output_type": "stream",
          "name": "stdout",
          "text": [
            "3\n",
            "7\n",
            "10\n"
          ]
        }
      ]
    },
    {
      "cell_type": "code",
      "source": [
        "#Caculator.py\n",
        "\n",
        "result = 0\n",
        "\n",
        "def sub(num):\n",
        "  global result\n",
        "  result -= num # 결과값(result)에 입력값(num) 빼기\n",
        "  return result\n",
        "\n",
        "print(sub(1))"
      ],
      "metadata": {
        "id": "jVjgyyFORTwi",
        "outputId": "8bdba521-f3ea-45ca-b43b-3c0c84b741fc",
        "colab": {
          "base_uri": "https://localhost:8080/"
        }
      },
      "execution_count": null,
      "outputs": [
        {
          "output_type": "stream",
          "name": "stdout",
          "text": [
            "-1\n"
          ]
        }
      ]
    },
    {
      "cell_type": "code",
      "source": [
        "class Calculator:\n",
        "  def __init__(self):\n",
        "    self.result = 0\n",
        "\n",
        "  def add(self, num):\n",
        "    self.result += num\n",
        "    return self.result\n",
        "\n",
        "  def sub(self, num):\n",
        "    self.result -= num\n",
        "    return self.result\n",
        "\n",
        "print(add(1))\n",
        "print(sub(1))"
      ],
      "metadata": {
        "id": "oNq5KaLjOCzB",
        "outputId": "ee7b3923-f67f-4321-fac8-04307965c903",
        "colab": {
          "base_uri": "https://localhost:8080/"
        }
      },
      "execution_count": null,
      "outputs": [
        {
          "output_type": "stream",
          "name": "stdout",
          "text": [
            "0\n",
            "-1\n"
          ]
        }
      ]
    },
    {
      "cell_type": "markdown",
      "source": [
        "### <font color = 'brown'> **Annotation for the above code lines**\n",
        "\n",
        "class Calculator:: Defines a class named Calculator.\n",
        "\n",
        "1. def __init__(self):: Defines the constructor method (__init__) for the Calculator class. This method initializes the object's attributes when an instance of the class is created. In this case, it initializes the result attribute to 0.\n",
        "\n",
        "2. self.result = 0: Initializes an instance variable result within the Calculator class and sets it to 0. This variable will be used to store the intermediate results during calculations.\n",
        "\n",
        "3. def add(self, num):: Defines a method named add within the Calculator class. The method takes a parameter num representing the number to be added to the result.\n",
        "\n",
        "4. self.result += num: Adds the num parameter to the result attribute of the object (the current running total).\n",
        "\n",
        "5. return self.result: Returns the updated value of self.result after performing the addition.\n",
        "\n",
        "6. def sub(self, num):: Defines a method named sub within the Calculator class. The method takes a parameter num representing the number to be subtracted from the result.\n",
        "\n",
        "7. self.result -= num: Subtracts the num parameter from the result attribute of the object (the current running total).\n",
        "\n",
        "8. return self.result: Returns the updated value of self.result after performing the subtraction.\n",
        "\n",
        "9. print(add(1)): Calls the add method of the Calculator class with the argument 1 and prints the result of the addition. However, there is an error in this line because add is an instance method, and it should be called on an instance of the class, not directly. The correct way to use it is by creating an instance of the Calculator class first.\n",
        "\n",
        "10. print(sub(1)): Calls the sub method of the Calculator class with the argument 1 and prints the result of the subtraction. As with the previous line, this will also raise an error for the same reason."
      ],
      "metadata": {
        "id": "oligLYERej7Z"
      }
    },
    {
      "cell_type": "markdown",
      "source": [
        "클래스 안에 구현된 함수는 다른 말로 메서드(method)라고 부른다. 앞으로 클래스 내부의 함수는 항상 메서드라고 표현할 테니 메서드라는 용어를 기억해 두자.\n",
        "\n",
        "일반적인 함수를 만들 때는 다음과 같이 소스 코드를 작성한다.\n",
        "\n",
        "    def 함수_이름(매개변수):\n",
        "      수행할_문장\n",
        "      ...\n",
        "\n",
        "\n",
        ">\n",
        "\n",
        "메서드도 클래스에 포함되어 있다는 점만 제외하면 일반 함수와 다를 것이 없다."
      ],
      "metadata": {
        "id": "8z-zHDnssrr8"
      }
    },
    {
      "cell_type": "code",
      "source": [
        "class FourCal:\n",
        "  def setdata(self, first, second): # 메서드의 매개변수\n",
        "    self.first = first # 메서드의 수행문\n",
        "    self.second = second # 메서드의 수행문"
      ],
      "metadata": {
        "id": "4oiUDwuEtJaP"
      },
      "execution_count": null,
      "outputs": []
    },
    {
      "cell_type": "markdown",
      "source": [
        "- setdata 메서드에는 self, first, second 총 3개의 매개변수가 필요한데 실제로는 a.setdata(4, 2)처럼 2개의 값만 전달했다. 왜 그럴까? a.setdata(4, 2)처럼 호출하면 setdata 메서드의 첫 번째 매개변수 self에는 setdata 메서드를 호출한 객체 a가 자동으로 전달되기 때문이다. 다음 그림을 보면 객체를 호출할 때 입력한 값이 메서드에 어떻게 전달되는지 쉽게 이해할 수 있을 것이다.\n",
        "\n",
        "- 파이썬 메서드의 첫 번째 매개변수 이름은 관례적으로 self를 사용한다. 객체를 호출할 때 호출한 객체 자신이 전달되기 때문에 self라는 이름을 사용한 것이다. 물론 self말고 다른 이름을 사용해도 상관없다.\n",
        "\n",
        "- 메서드의 첫 번째 매개변수 self를 명시적으로 구현하는 것은 파이썬만의 독특한 특징이다. 예를 들어 자바와 같은 언어는 첫 번째 매개변수 self가 필요없다.\n",
        "\n",
        "메서드를 호출하는 또 다른 방법\n",
        "잘 사용하지는 않지만, 다음과 같이 클래스를 이용해 메서드를 호출할 수도 있다.\n",
        "\n",
        "    a = FourCal()\n",
        "    FourCal.setdata(a, 4, 2)\n",
        "\n",
        ">\n",
        "\n",
        "위와 같이 ‘클래스명.메서드’ 형태로 호출할 때는 객체 a를 첫 번째 매개변수 self에 꼭 전달해야 한다. 반면 다음처럼 ‘객체.메서드’ 형태로 호출할 때는 self를 반드시 생략해서 호출해야 한다.\n",
        "\n",
        "    a = FourCal()\n",
        "    a.setdata(4, 2)"
      ],
      "metadata": {
        "id": "SoxqBPbUtEx3"
      }
    },
    {
      "cell_type": "code",
      "source": [
        "a = FourCal()\n",
        "a.setdata(4, 2)\n",
        "a.first"
      ],
      "metadata": {
        "id": "vWItnHnytc_n",
        "outputId": "03581f4c-2501-47d9-b323-24e5b1e7b2d5",
        "colab": {
          "base_uri": "https://localhost:8080/"
        }
      },
      "execution_count": null,
      "outputs": [
        {
          "output_type": "execute_result",
          "data": {
            "text/plain": [
              "4"
            ]
          },
          "metadata": {},
          "execution_count": 10
        }
      ]
    },
    {
      "cell_type": "markdown",
      "source": [
        "a 객체의 first 값은 b 객체의 first 값에 영향받지 않고 원래 값을 유지하고 있다는 것을 확인할 수 있다. 이 예제를 통해 여러분에게 강조하고 싶은 점이 바로 이것이다. 클래스로 만든 객체의 객체변수는 다른 객체의 객체변수에 상관없이 독립적인 값을 유지한다. 클래스에서는 이 부분을 이해하는 것이 가장 중요하다."
      ],
      "metadata": {
        "id": "ktoev79nvxuZ"
      }
    },
    {
      "cell_type": "code",
      "source": [
        "b = FourCal()\n",
        "b.setdata(3, 8)\n",
        "b.first"
      ],
      "metadata": {
        "id": "ku2-2NF6v9iX",
        "outputId": "ad430de6-385a-423f-8b7c-df2428284c5f",
        "colab": {
          "base_uri": "https://localhost:8080/"
        }
      },
      "execution_count": null,
      "outputs": [
        {
          "output_type": "execute_result",
          "data": {
            "text/plain": [
              "3"
            ]
          },
          "metadata": {},
          "execution_count": 14
        }
      ]
    },
    {
      "cell_type": "code",
      "source": [
        "# 사칙연산 가능한 Class 재정의\n",
        "\n",
        "class FourCal:\n",
        "  def setdata(self, first, second):\n",
        "    self.first = first\n",
        "    self.second = second\n",
        "\n",
        "  def add(self):\n",
        "    result = self.first + self.second\n",
        "    return result\n",
        "\n",
        "  def mul(self):\n",
        "    result = self.first * self.second\n",
        "    return result\n",
        "\n",
        "  def sub(self):\n",
        "    result = self.first - self.second\n",
        "    return result\n",
        "\n",
        "  def div(self):\n",
        "    result = self.first / self.second\n",
        "    return result\n",
        "\n",
        "a = FourCal()\n",
        "a.setdata(4, 2)\n",
        "\n",
        "a.add()\n",
        "a.mul()\n",
        "a.sub()\n",
        "a.div()\n",
        "\n",
        "\n",
        "b = FourCal()\n",
        "b.setdata(3, 8)\n",
        "\n",
        "b.add()\n",
        "#b.mul()\n",
        "#b.sub()\n",
        "#b.div()"
      ],
      "metadata": {
        "id": "NWC0kBS7xfgG",
        "outputId": "4b268b75-563b-4beb-ba5b-bc7076b29a49",
        "colab": {
          "base_uri": "https://localhost:8080/"
        }
      },
      "execution_count": null,
      "outputs": [
        {
          "output_type": "execute_result",
          "data": {
            "text/plain": [
              "11"
            ]
          },
          "metadata": {},
          "execution_count": 21
        }
      ]
    },
    {
      "cell_type": "markdown",
      "source": [
        "생성자\n"
      ],
      "metadata": {
        "id": "ENJCInr1v2t9"
      }
    }
  ]
}