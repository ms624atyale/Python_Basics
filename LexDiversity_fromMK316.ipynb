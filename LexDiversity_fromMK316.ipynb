{
  "nbformat": 4,
  "nbformat_minor": 0,
  "metadata": {
    "colab": {
      "name": "Copy of Untitled7.ipynb",
      "provenance": [],
      "toc_visible": true,
      "authorship_tag": "ABX9TyPMqfGwozBv6uh6sefF0l88"
    },
    "kernelspec": {
      "name": "python3",
      "display_name": "Python 3"
    },
    "language_info": {
      "name": "python"
    }
  },
  "cells": [
    {
      "cell_type": "code",
      "execution_count": null,
      "metadata": {
        "id": "S_N-a8HGEK0N"
      },
      "outputs": [],
      "source": [
        "pip install lexical-diversity"
      ]
    },
    {
      "cell_type": "code",
      "source": [
        "from lexical_diversity import lex_div as ld"
      ],
      "metadata": {
        "id": "ykBXrVUgEdrs"
      },
      "execution_count": null,
      "outputs": []
    },
    {
      "cell_type": "code",
      "source": [
        "text = \"\"\"The state was named for the Colorado River, which Spanish travelers named the Río Colorado for the ruddy silt the river carried from the mountains. The Territory of Colorado was organized on February 28, 1861, and on August 1, 1876, U.S. President Ulysses S. Grant signed Proclamation 230 admitting Colorado to the Union as the 38th state. Colorado is nicknamed the \"Centennial State\" because it became a state a century after the signing of the United States Declaration of Independence. Colorado is bordered by Wyoming to the north, Nebraska to the northeast, Kansas to the east, Oklahoma to the southeast, New Mexico to the south, Utah to the west, and touches Arizona to the southwest at the Four Corners. Colorado is noted for its vivid landscape of mountains, forests, high plains, mesas, canyons, plateaus, rivers, and desert lands. Colorado is part of the western or southwestern United States, and one of the Mountain States. Denver is the capital and most populous city of Colorado. Residents of the state are known as Coloradans, although the antiquated term \"Coloradoan\" is occasionally used.\"\"\"\n"
      ],
      "metadata": {
        "id": "cOkg0p5KEf_f"
      },
      "execution_count": null,
      "outputs": []
    },
    {
      "cell_type": "code",
      "source": [
        "tok = ld.tokenize(text)"
      ],
      "metadata": {
        "id": "vOTNw8ReEjbb"
      },
      "execution_count": null,
      "outputs": []
    },
    {
      "cell_type": "code",
      "source": [
        "print(tok[:10])"
      ],
      "metadata": {
        "id": "kuD73-D5El9p"
      },
      "execution_count": null,
      "outputs": []
    },
    {
      "cell_type": "code",
      "source": [
        "print(tok)"
      ],
      "metadata": {
        "id": "rE3pxB75E1BA"
      },
      "execution_count": null,
      "outputs": []
    },
    {
      "cell_type": "code",
      "source": [
        "flt = ld.flemmatize(text)"
      ],
      "metadata": {
        "id": "oRGMFPKvEoir"
      },
      "execution_count": null,
      "outputs": []
    },
    {
      "cell_type": "code",
      "source": [
        "print(ld.ttr(flt))"
      ],
      "metadata": {
        "id": "asOY0A47Eqw3"
      },
      "execution_count": null,
      "outputs": []
    }
  ]
}